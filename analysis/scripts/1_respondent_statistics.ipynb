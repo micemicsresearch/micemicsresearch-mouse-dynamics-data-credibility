{
 "cells": [
  {
   "cell_type": "code",
   "execution_count": 2,
   "id": "bf9e805a",
   "metadata": {},
   "outputs": [],
   "source": [
    "from utils import *"
   ]
  },
  {
   "attachments": {},
   "cell_type": "markdown",
   "id": "009df8ae",
   "metadata": {},
   "source": [
    "# Respondent statistics"
   ]
  },
  {
   "cell_type": "code",
   "execution_count": 3,
   "id": "99692883",
   "metadata": {},
   "outputs": [
    {
     "data": {
      "text/html": [
       "<div>\n",
       "<style scoped>\n",
       "    .dataframe tbody tr th:only-of-type {\n",
       "        vertical-align: middle;\n",
       "    }\n",
       "\n",
       "    .dataframe tbody tr th {\n",
       "        vertical-align: top;\n",
       "    }\n",
       "\n",
       "    .dataframe thead th {\n",
       "        text-align: right;\n",
       "    }\n",
       "</style>\n",
       "<table border=\"1\" class=\"dataframe\">\n",
       "  <thead>\n",
       "    <tr style=\"text-align: right;\">\n",
       "      <th></th>\n",
       "      <th>experience</th>\n",
       "      <th>pc_usage</th>\n",
       "      <th>sex</th>\n",
       "      <th>age</th>\n",
       "      <th>employment</th>\n",
       "    </tr>\n",
       "  </thead>\n",
       "  <tbody>\n",
       "    <tr>\n",
       "      <th>1</th>\n",
       "      <td>5</td>\n",
       "      <td>2 - 3 hours daily</td>\n",
       "      <td>man</td>\n",
       "      <td>29</td>\n",
       "      <td>učiteľ</td>\n",
       "    </tr>\n",
       "    <tr>\n",
       "      <th>2</th>\n",
       "      <td>9</td>\n",
       "      <td>more than 3 hours daily</td>\n",
       "      <td>man</td>\n",
       "      <td>44</td>\n",
       "      <td>Geodet</td>\n",
       "    </tr>\n",
       "    <tr>\n",
       "      <th>3</th>\n",
       "      <td>8</td>\n",
       "      <td>2 - 3 hours daily</td>\n",
       "      <td>man</td>\n",
       "      <td>11</td>\n",
       "      <td>Ziak</td>\n",
       "    </tr>\n",
       "    <tr>\n",
       "      <th>4</th>\n",
       "      <td>7</td>\n",
       "      <td>2 - 3 hours daily</td>\n",
       "      <td>man</td>\n",
       "      <td>21</td>\n",
       "      <td>študent - logistika</td>\n",
       "    </tr>\n",
       "    <tr>\n",
       "      <th>5</th>\n",
       "      <td>8</td>\n",
       "      <td>2 - 3 hours weekly</td>\n",
       "      <td>woman</td>\n",
       "      <td>20</td>\n",
       "      <td>študent, ekonomika a manažment podniku</td>\n",
       "    </tr>\n",
       "  </tbody>\n",
       "</table>\n",
       "</div>"
      ],
      "text/plain": [
       "   experience                 pc_usage    sex  age   \n",
       "1           5        2 - 3 hours daily    man   29  \\\n",
       "2           9  more than 3 hours daily    man   44   \n",
       "3           8        2 - 3 hours daily    man   11   \n",
       "4           7        2 - 3 hours daily    man   21   \n",
       "5           8       2 - 3 hours weekly  woman   20   \n",
       "\n",
       "                               employment  \n",
       "1                                  učiteľ  \n",
       "2                                  Geodet  \n",
       "3                                    Ziak  \n",
       "4                     študent - logistika  \n",
       "5  študent, ekonomika a manažment podniku  "
      ]
     },
     "execution_count": 3,
     "metadata": {},
     "output_type": "execute_result"
    }
   ],
   "source": [
    "data = pd.read_csv(os.path.join('..', 'data', 'respondents.csv'), delimiter=';')\n",
    "data = data[data.id > 1]\n",
    "data = data.drop(['id', 'creation'], axis=1)\n",
    "data.head()"
   ]
  },
  {
   "cell_type": "code",
   "execution_count": 4,
   "id": "fb4ddadf",
   "metadata": {},
   "outputs": [
    {
     "name": "stdout",
     "output_type": "stream",
     "text": [
      "<class 'pandas.core.frame.DataFrame'>\n",
      "Index: 32 entries, 1 to 32\n",
      "Data columns (total 5 columns):\n",
      " #   Column      Non-Null Count  Dtype \n",
      "---  ------      --------------  ----- \n",
      " 0   experience  32 non-null     int64 \n",
      " 1   pc_usage    32 non-null     object\n",
      " 2   sex         32 non-null     object\n",
      " 3   age         32 non-null     int64 \n",
      " 4   employment  32 non-null     object\n",
      "dtypes: int64(2), object(3)\n",
      "memory usage: 1.5+ KB\n"
     ]
    }
   ],
   "source": [
    "data.info()"
   ]
  },
  {
   "cell_type": "code",
   "execution_count": 5,
   "id": "79b66efc",
   "metadata": {},
   "outputs": [
    {
     "data": {
      "text/html": [
       "<div>\n",
       "<style scoped>\n",
       "    .dataframe tbody tr th:only-of-type {\n",
       "        vertical-align: middle;\n",
       "    }\n",
       "\n",
       "    .dataframe tbody tr th {\n",
       "        vertical-align: top;\n",
       "    }\n",
       "\n",
       "    .dataframe thead th {\n",
       "        text-align: right;\n",
       "    }\n",
       "</style>\n",
       "<table border=\"1\" class=\"dataframe\">\n",
       "  <thead>\n",
       "    <tr style=\"text-align: right;\">\n",
       "      <th></th>\n",
       "      <th>experience</th>\n",
       "      <th>age</th>\n",
       "    </tr>\n",
       "  </thead>\n",
       "  <tbody>\n",
       "    <tr>\n",
       "      <th>count</th>\n",
       "      <td>32.0000</td>\n",
       "      <td>32.0000</td>\n",
       "    </tr>\n",
       "    <tr>\n",
       "      <th>mean</th>\n",
       "      <td>7.6875</td>\n",
       "      <td>31.3125</td>\n",
       "    </tr>\n",
       "    <tr>\n",
       "      <th>std</th>\n",
       "      <td>2.2638</td>\n",
       "      <td>13.0296</td>\n",
       "    </tr>\n",
       "    <tr>\n",
       "      <th>min</th>\n",
       "      <td>1.0000</td>\n",
       "      <td>11.0000</td>\n",
       "    </tr>\n",
       "    <tr>\n",
       "      <th>25%</th>\n",
       "      <td>6.0000</td>\n",
       "      <td>23.0000</td>\n",
       "    </tr>\n",
       "    <tr>\n",
       "      <th>50%</th>\n",
       "      <td>8.0000</td>\n",
       "      <td>26.5000</td>\n",
       "    </tr>\n",
       "    <tr>\n",
       "      <th>75%</th>\n",
       "      <td>9.2500</td>\n",
       "      <td>34.2500</td>\n",
       "    </tr>\n",
       "    <tr>\n",
       "      <th>max</th>\n",
       "      <td>10.0000</td>\n",
       "      <td>68.0000</td>\n",
       "    </tr>\n",
       "  </tbody>\n",
       "</table>\n",
       "</div>"
      ],
      "text/plain": [
       "       experience     age\n",
       "count     32.0000 32.0000\n",
       "mean       7.6875 31.3125\n",
       "std        2.2638 13.0296\n",
       "min        1.0000 11.0000\n",
       "25%        6.0000 23.0000\n",
       "50%        8.0000 26.5000\n",
       "75%        9.2500 34.2500\n",
       "max       10.0000 68.0000"
      ]
     },
     "execution_count": 5,
     "metadata": {},
     "output_type": "execute_result"
    }
   ],
   "source": [
    "data.describe()"
   ]
  },
  {
   "cell_type": "code",
   "execution_count": 6,
   "id": "cec69871",
   "metadata": {},
   "outputs": [
    {
     "data": {
      "text/html": [
       "<div>\n",
       "<style scoped>\n",
       "    .dataframe tbody tr th:only-of-type {\n",
       "        vertical-align: middle;\n",
       "    }\n",
       "\n",
       "    .dataframe tbody tr th {\n",
       "        vertical-align: top;\n",
       "    }\n",
       "\n",
       "    .dataframe thead tr th {\n",
       "        text-align: left;\n",
       "    }\n",
       "\n",
       "    .dataframe thead tr:last-of-type th {\n",
       "        text-align: right;\n",
       "    }\n",
       "</style>\n",
       "<table border=\"1\" class=\"dataframe\">\n",
       "  <thead>\n",
       "    <tr>\n",
       "      <th></th>\n",
       "      <th colspan=\"8\" halign=\"left\">experience</th>\n",
       "      <th colspan=\"8\" halign=\"left\">age</th>\n",
       "    </tr>\n",
       "    <tr>\n",
       "      <th></th>\n",
       "      <th>count</th>\n",
       "      <th>mean</th>\n",
       "      <th>std</th>\n",
       "      <th>min</th>\n",
       "      <th>25%</th>\n",
       "      <th>50%</th>\n",
       "      <th>75%</th>\n",
       "      <th>max</th>\n",
       "      <th>count</th>\n",
       "      <th>mean</th>\n",
       "      <th>std</th>\n",
       "      <th>min</th>\n",
       "      <th>25%</th>\n",
       "      <th>50%</th>\n",
       "      <th>75%</th>\n",
       "      <th>max</th>\n",
       "    </tr>\n",
       "    <tr>\n",
       "      <th>sex</th>\n",
       "      <th></th>\n",
       "      <th></th>\n",
       "      <th></th>\n",
       "      <th></th>\n",
       "      <th></th>\n",
       "      <th></th>\n",
       "      <th></th>\n",
       "      <th></th>\n",
       "      <th></th>\n",
       "      <th></th>\n",
       "      <th></th>\n",
       "      <th></th>\n",
       "      <th></th>\n",
       "      <th></th>\n",
       "      <th></th>\n",
       "      <th></th>\n",
       "    </tr>\n",
       "  </thead>\n",
       "  <tbody>\n",
       "    <tr>\n",
       "      <th>man</th>\n",
       "      <td>16.0000</td>\n",
       "      <td>8.4375</td>\n",
       "      <td>1.5903</td>\n",
       "      <td>5.0000</td>\n",
       "      <td>7.0000</td>\n",
       "      <td>9.0000</td>\n",
       "      <td>10.0000</td>\n",
       "      <td>10.0000</td>\n",
       "      <td>16.0000</td>\n",
       "      <td>29.1875</td>\n",
       "      <td>11.6974</td>\n",
       "      <td>11.0000</td>\n",
       "      <td>23.0000</td>\n",
       "      <td>25.0000</td>\n",
       "      <td>33.2500</td>\n",
       "      <td>63.0000</td>\n",
       "    </tr>\n",
       "    <tr>\n",
       "      <th>woman</th>\n",
       "      <td>16.0000</td>\n",
       "      <td>6.9375</td>\n",
       "      <td>2.6196</td>\n",
       "      <td>1.0000</td>\n",
       "      <td>5.0000</td>\n",
       "      <td>8.0000</td>\n",
       "      <td>9.0000</td>\n",
       "      <td>10.0000</td>\n",
       "      <td>16.0000</td>\n",
       "      <td>33.4375</td>\n",
       "      <td>14.2967</td>\n",
       "      <td>20.0000</td>\n",
       "      <td>23.0000</td>\n",
       "      <td>29.0000</td>\n",
       "      <td>37.2500</td>\n",
       "      <td>68.0000</td>\n",
       "    </tr>\n",
       "  </tbody>\n",
       "</table>\n",
       "</div>"
      ],
      "text/plain": [
       "      experience                                                        age   \n",
       "           count   mean    std    min    25%    50%     75%     max   count   \n",
       "sex                                                                           \n",
       "man      16.0000 8.4375 1.5903 5.0000 7.0000 9.0000 10.0000 10.0000 16.0000  \\\n",
       "woman    16.0000 6.9375 2.6196 1.0000 5.0000 8.0000  9.0000 10.0000 16.0000   \n",
       "\n",
       "                                                               \n",
       "         mean     std     min     25%     50%     75%     max  \n",
       "sex                                                            \n",
       "man   29.1875 11.6974 11.0000 23.0000 25.0000 33.2500 63.0000  \n",
       "woman 33.4375 14.2967 20.0000 23.0000 29.0000 37.2500 68.0000  "
      ]
     },
     "execution_count": 6,
     "metadata": {},
     "output_type": "execute_result"
    }
   ],
   "source": [
    "data.groupby('sex').describe()"
   ]
  },
  {
   "attachments": {},
   "cell_type": "markdown",
   "id": "e6b5a25f",
   "metadata": {},
   "source": [
    "## Sex"
   ]
  },
  {
   "cell_type": "code",
   "execution_count": 7,
   "id": "20dbdf8f",
   "metadata": {},
   "outputs": [
    {
     "name": "stdout",
     "output_type": "stream",
     "text": [
      "sex\n",
      "man      16\n",
      "woman    16\n",
      "Name: count, dtype: int64\n"
     ]
    },
    {
     "data": {
      "text/plain": [
       "<Axes: title={'center': 'Sex'}, ylabel='count'>"
      ]
     },
     "execution_count": 7,
     "metadata": {},
     "output_type": "execute_result"
    },
    {
     "data": {
      "image/png": "[encoded data removed]",
      "text/plain": [
       "<Figure size 640x480 with 1 Axes>"
      ]
     },
     "metadata": {},
     "output_type": "display_data"
    }
   ],
   "source": [
    "print(data.sex.value_counts())\n",
    "data.sex.value_counts().plot.pie(title='Sex', autopct='%1.2f%%')"
   ]
  },
  {
   "attachments": {},
   "cell_type": "markdown",
   "id": "a32889ca",
   "metadata": {},
   "source": [
    "## Age"
   ]
  },
  {
   "cell_type": "code",
   "execution_count": 8,
   "id": "20b178a4",
   "metadata": {},
   "outputs": [
    {
     "data": {
      "text/plain": [
       "<Axes: xlabel='age', ylabel='Count'>"
      ]
     },
     "execution_count": 8,
     "metadata": {},
     "output_type": "execute_result"
    },
    {
     "data": {
      "image/png": "[encoded data removed]",
      "text/plain": [
       "<Figure size 640x480 with 1 Axes>"
      ]
     },
     "metadata": {},
     "output_type": "display_data"
    }
   ],
   "source": [
    "sns.histplot(data, x='age')"
   ]
  },
  {
   "cell_type": "code",
   "execution_count": 9,
   "id": "889dfd19",
   "metadata": {},
   "outputs": [
    {
     "data": {
      "text/plain": [
       "<Axes: xlabel='age', ylabel='Count'>"
      ]
     },
     "execution_count": 9,
     "metadata": {},
     "output_type": "execute_result"
    },
    {
     "data": {
      "image/png": "[encoded data removed]",
      "text/plain": [
       "<Figure size 640x480 with 1 Axes>"
      ]
     },
     "metadata": {},
     "output_type": "display_data"
    }
   ],
   "source": [
    "sns.histplot(data, x='age', hue='sex')"
   ]
  },
  {
   "attachments": {},
   "cell_type": "markdown",
   "id": "e58ec753",
   "metadata": {},
   "source": [
    "## Experience"
   ]
  },
  {
   "cell_type": "code",
   "execution_count": 10,
   "id": "b906656d",
   "metadata": {},
   "outputs": [
    {
     "data": {
      "text/plain": [
       "<Axes: xlabel='experience', ylabel='Count'>"
      ]
     },
     "execution_count": 10,
     "metadata": {},
     "output_type": "execute_result"
    },
    {
     "data": {
      "image/png": "[encoded data removed]",
      "text/plain": [
       "<Figure size 640x480 with 1 Axes>"
      ]
     },
     "metadata": {},
     "output_type": "display_data"
    }
   ],
   "source": [
    "sns.histplot(data, x='experience')"
   ]
  },
  {
   "cell_type": "code",
   "execution_count": 11,
   "id": "aed37b2d",
   "metadata": {},
   "outputs": [
    {
     "data": {
      "text/plain": [
       "<Axes: xlabel='experience', ylabel='Count'>"
      ]
     },
     "execution_count": 11,
     "metadata": {},
     "output_type": "execute_result"
    },
    {
     "data": {
      "image/png": "[encoded data removed]",
      "text/plain": [
       "<Figure size 640x480 with 1 Axes>"
      ]
     },
     "metadata": {},
     "output_type": "display_data"
    }
   ],
   "source": [
    "sns.histplot(data, x='experience', hue='sex')"
   ]
  },
  {
   "attachments": {},
   "cell_type": "markdown",
   "id": "dba5f1ed",
   "metadata": {},
   "source": [
    "## PC usage"
   ]
  },
  {
   "cell_type": "code",
   "execution_count": 12,
   "id": "47685152",
   "metadata": {},
   "outputs": [
    {
     "name": "stdout",
     "output_type": "stream",
     "text": [
      "pc_usage\n",
      "more than 3 hours daily    21\n",
      "2 - 3 hours daily           5\n",
      "2 - 3 hours weekly          3\n",
      "less than 1 hour weekly     2\n",
      "1 hour daily                1\n",
      "Name: count, dtype: int64\n"
     ]
    },
    {
     "data": {
      "text/plain": [
       "<Axes: title={'center': 'PC usage'}, ylabel='count'>"
      ]
     },
     "execution_count": 12,
     "metadata": {},
     "output_type": "execute_result"
    },
    {
     "data": {
      "image/png": "[encoded data removed]",
      "text/plain": [
       "<Figure size 640x480 with 1 Axes>"
      ]
     },
     "metadata": {},
     "output_type": "display_data"
    }
   ],
   "source": [
    "print(data.pc_usage.value_counts())\n",
    "data.pc_usage.value_counts().plot.pie(title='PC usage', autopct='%1.2f%%')"
   ]
  },
  {
   "attachments": {},
   "cell_type": "markdown",
   "id": "54c75fe2",
   "metadata": {},
   "source": [
    "## Employment"
   ]
  },
  {
   "cell_type": "code",
   "execution_count": 13,
   "id": "01aa8662",
   "metadata": {},
   "outputs": [
    {
     "name": "stdout",
     "output_type": "stream",
     "text": [
      "['učiteľ' 'Geodet' 'Ziak' 'študent - logistika'\n",
      " 'študent, ekonomika a manažment podniku' 'učiteľ' 'dochodca'\n",
      " 'obchodný zástupca poisťovne' 'učiteľka' 'účtovníčka' 'Programatorka'\n",
      " 'Študent informatika' 'programátor' 'IT architekt' 'student, informatika'\n",
      " 'Innformatika' 'študent (informatika)' 'Software developer'\n",
      " 'študent informatiky' 'Študent Informatiky' 'stavebný inžinier'\n",
      " 'logopédka' 'zdravotnícky laborant'\n",
      " 'konateľ - práca s vybavovaním dokladov pre vozidlá' 'stavenbný manažér'\n",
      " 'farmaceut' 'študent, učiteľstvo' 'Projektant' 'manažér v Mondi SCP'\n",
      " 'systémový inžinier' 'Marketingový manažér' 'učiteľ']\n"
     ]
    }
   ],
   "source": [
    "print(data.employment.values)"
   ]
  }
 ],
 "metadata": {
  "kernelspec": {
   "display_name": "Python 3 (ipykernel)",
   "language": "python",
   "name": "python3"
  },
  "language_info": {
   "codemirror_mode": {
    "name": "ipython",
    "version": 3
   },
   "file_extension": ".py",
   "mimetype": "text/x-python",
   "name": "python",
   "nbconvert_exporter": "python",
   "pygments_lexer": "ipython3",
   "version": "3.11.3"
  }
 },
 "nbformat": 4,
 "nbformat_minor": 5
}

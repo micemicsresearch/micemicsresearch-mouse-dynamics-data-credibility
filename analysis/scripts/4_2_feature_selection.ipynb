{
 "cells": [
  {
   "cell_type": "code",
   "execution_count": 1,
   "metadata": {},
   "outputs": [],
   "source": [
    "from utils import *"
   ]
  },
  {
   "cell_type": "markdown",
   "metadata": {},
   "source": [
    "# Feature selection"
   ]
  },
  {
   "cell_type": "code",
   "execution_count": 2,
   "metadata": {},
   "outputs": [],
   "source": [
    "data = pd.read_csv(os.path.join('..', 'data', 'processed', 'points_aggregated_data.csv'), delimiter=';')\n",
    "columns = list(filter(lambda x: x not in (useless_columns + filter_columns + ['dpi', 'sens']), list(data.columns)))\n",
    "data = data[columns + ['sex', 'respondent_id']]"
   ]
  },
  {
   "cell_type": "code",
   "execution_count": 3,
   "metadata": {},
   "outputs": [],
   "source": [
    "# pick one random train test configuration\n",
    "train_ids = [31,  3, 13, 28, 24, 30, 29, 32, 12, 10,  7,  5, 20, 16, 17, 15, 11, 25, 26,  4,  8, 22, 18, 27]\n",
    "test_ids = [6, 14, 33, 23, 19,  2, 21,  9]\n",
    "\n",
    "train = data[data['respondent_id'].isin(train_ids)]\n",
    "test = data[data['respondent_id'].isin(test_ids)]\n",
    "\n",
    "train = train.iloc[:,:109]\n",
    "test = test.iloc[:,:109]"
   ]
  },
  {
   "cell_type": "code",
   "execution_count": 4,
   "metadata": {},
   "outputs": [],
   "source": [
    "#prepare pipelines for ordinal and continous data\n",
    "ordinal_pipe = Pipeline(steps=[\n",
    "    ('encoder', OrdinalEncoder())\n",
    "])\n",
    "\n",
    "continous_pipe = Pipeline(steps=[\n",
    "    ('transformer', PowerTransformer(method='yeo-johnson', standardize=True))\n",
    "])\n",
    "\n",
    "preprocessor = ColumnTransformer([\n",
    "    ('continous', continous_pipe, [i for i in range(108)]),\n",
    "    ('ordinal', ordinal_pipe, [108]),\n",
    "])\n",
    "\n",
    "processed_train = pd.DataFrame(preprocessor.fit_transform(train), columns=columns + ['sex'])\n",
    "processed_test = pd.DataFrame(preprocessor.fit_transform(test), columns=columns + ['sex'])"
   ]
  },
  {
   "cell_type": "markdown",
   "metadata": {},
   "source": [
    "## CatBoost Selection"
   ]
  },
  {
   "cell_type": "code",
   "execution_count": 5,
   "metadata": {},
   "outputs": [
    {
     "data": {
      "application/vnd.jupyter.widget-view+json": {
       "model_id": "63a37a10411e49759333e69b44df700a",
       "version_major": 2,
       "version_minor": 0
      },
      "text/plain": [
       "MetricVisualizer(layout=Layout(align_self='stretch', height='500px'))"
      ]
     },
     "metadata": {},
     "output_type": "display_data"
    },
    {
     "data": {
      "application/vnd.plotly.v1+json": {
       "config": {
        "plotlyServerURL": "https://plot.ly"
       },
       "data": [
        {
         "line": {
          "color": "rgb(51,160,44)"
         },
         "mode": "lines+markers",
         "name": "",
         "text": [
          "",
          "duration_sum",
          "pace_median",
          "velocity_angular_q5",
          "pace_mean",
          "angle_min",
          "flip_x_count",
          "flip_y_count",
          "velocity_max",
          "velocity_q5",
          "velocity_mean_weighted",
          "velocity_mean",
          "velocity_smooth_max",
          "velocity_smooth_q95",
          "velocity_smooth_q5",
          "velocity_smooth_mean",
          "velocity_smooth_median",
          "velocity_smooth_std",
          "distance_sum",
          "velocity_median",
          "velocity_std",
          "distance_ratio",
          "velocity_x_max",
          "corner_count",
          "velocity_x_q95",
          "velocity_x_mean_weighted",
          "velocity_x_mean",
          "velocity_x_std",
          "velocity_y_max",
          "velocity_y_q95",
          "velocity_y_mean",
          "velocity_y_median",
          "velocity_y_std",
          "distance_max",
          "distance_q95",
          "distance_q5",
          "distance_mean",
          "distance_median",
          "distance_std",
          "pace_max",
          "pace_q95",
          "pace_q5",
          "pace_mean_weighted",
          "pace_std",
          "acceleration_max",
          "acceleration_min",
          "acceleration_q95",
          "acceleration_mean_weighted",
          "acceleration_mean",
          "acceleration_median",
          "acceleration_std",
          "acceleration_x_max",
          "acceleration_x_q95",
          "acceleration_x_mean_weighted",
          "acceleration_x_mean",
          "acceleration_x_std",
          "acceleration_y_mean_weighted",
          "acceleration_y_mean",
          "acceleration_y_std",
          "acceleration_positive_max",
          "acceleration_positive_min",
          "acceleration_positive_q95",
          "acceleration_positive_q5",
          "acceleration_positive_mean_weighted",
          "acceleration_positive_mean",
          "acceleration_positive_median",
          "acceleration_positive_std",
          "acceleration_negative_max",
          "acceleration_negative_min",
          "acceleration_negative_q95",
          "acceleration_negative_q5",
          "acceleration_negative_mean_weighted",
          "acceleration_negative_median",
          "acceleration_negative_std",
          "angle_q95",
          "angle_q5",
          "angle_mean",
          "angle_median",
          "angle_std",
          "velocity_angular_max",
          "curvature_q95",
          "curvature_std",
          "deviation_max",
          "deviation_q95",
          "deviation_q5",
          "deviation_mean",
          "deviation_median",
          "deviation_std",
          "acceleration_y_max",
          "acceleration_y_min",
          "velocity_angular_min",
          "velocity_angular_q95",
          "curvature_max",
          "acceleration_y_q95"
         ],
         "type": "scatter",
         "x": [
          0,
          1,
          2,
          3,
          4,
          5,
          6,
          7,
          8,
          9,
          10,
          11,
          12,
          13,
          14,
          15,
          16,
          17,
          18,
          19,
          20,
          21,
          22,
          23,
          24,
          25,
          26,
          27,
          28,
          29,
          30,
          31,
          32,
          33,
          34,
          35,
          36,
          37,
          38,
          39,
          40,
          41,
          42,
          43,
          44,
          45,
          46,
          47,
          48,
          49,
          50,
          51,
          52,
          53,
          54,
          55,
          56,
          57,
          58,
          59,
          60,
          61,
          62,
          63,
          64,
          65,
          66,
          67,
          68,
          69,
          70,
          71,
          72,
          73,
          74,
          75,
          76,
          77,
          78,
          79,
          80,
          81,
          82,
          83,
          84,
          85,
          86,
          87,
          88,
          89,
          90,
          91,
          92,
          93
         ],
         "y": [
          0.6913794432121946,
          0.6883458265801329,
          0.6870967111131812,
          0.6861907611138238,
          0.6857931711598056,
          0.6856625988538294,
          0.6856625988538294,
          0.6856625988538294,
          0.6856625988538294,
          0.6856625988538294,
          0.6856625988538294,
          0.6856625988538294,
          0.6856625988538294,
          0.6856625988538294,
          0.6856625988538294,
          0.6856625988538294,
          0.6856625988538294,
          0.6856625988538294,
          0.6856625988538294,
          0.6856625988538294,
          0.6856625988538294,
          0.6856625988538294,
          0.6856625988538294,
          0.6856625988538294,
          0.6856625988538294,
          0.6856625988538294,
          0.6856625988538294,
          0.6856625988538294,
          0.6856625988538294,
          0.6856625988538294,
          0.6856625988538294,
          0.6856625988538294,
          0.6856625988538294,
          0.6856625988538294,
          0.6856625988538294,
          0.6856625988538294,
          0.6856625988538294,
          0.6856625988538294,
          0.6856625988538294,
          0.6856625988538294,
          0.6856625988538294,
          0.6856625988538294,
          0.6856625988538294,
          0.6856625988538294,
          0.6856625988538294,
          0.6856625988538294,
          0.6856625988538294,
          0.6856625988538294,
          0.6856625988538294,
          0.6856625988538294,
          0.6856625988538294,
          0.6856625988538294,
          0.6856625988538294,
          0.6856625988538294,
          0.6856625988538294,
          0.6856625988538294,
          0.6856625988538294,
          0.6856625988538294,
          0.6856625988538294,
          0.6856625988538294,
          0.6856625988538294,
          0.6856625988538294,
          0.6856625988538294,
          0.6856625988538294,
          0.6856625988538294,
          0.6856625988538294,
          0.6856625988538294,
          0.6856625988538294,
          0.6856625988538294,
          0.6856625988538294,
          0.6856625988538294,
          0.6856625988538294,
          0.6856625988538294,
          0.6856625988538294,
          0.6856625988538294,
          0.6856625988538294,
          0.6856625988538294,
          0.6856625988538294,
          0.6856625988538294,
          0.6856625988538294,
          0.6856625988538294,
          0.6856625988538294,
          0.6856625988538294,
          0.6856625988538294,
          0.6856625988538294,
          0.6856625988538294,
          0.6856625988538294,
          0.6856625988538294,
          0.6856625988538294,
          0.6856625988538294,
          0.6856625988538294,
          0.6856625988538294,
          0.6856625988538294,
          0.6856625988538294
         ]
        },
        {
         "marker": {
          "size": 10,
          "symbol": "square"
         },
         "mode": "markers",
         "name": "",
         "text": [
          ""
         ],
         "type": "scatter",
         "x": [
          0
         ],
         "y": [
          0.6913794432121946
         ]
        },
        {
         "mode": "text",
         "name": "",
         "text": [
          "",
          "105",
          "32",
          "81",
          "31",
          "72",
          "0",
          "1",
          "2",
          "4",
          "5",
          "6",
          "97",
          "98",
          "99",
          "101",
          "102",
          "103",
          "104",
          "7",
          "8",
          "106",
          "9",
          "107",
          "10",
          "11",
          "12",
          "14",
          "15",
          "16",
          "18",
          "19",
          "20",
          "21",
          "22",
          "23",
          "24",
          "25",
          "26",
          "27",
          "28",
          "29",
          "30",
          "33",
          "34",
          "35",
          "36",
          "38",
          "39",
          "40",
          "41",
          "42",
          "44",
          "46",
          "47",
          "48",
          "53",
          "54",
          "55",
          "56",
          "57",
          "58",
          "59",
          "60",
          "61",
          "62",
          "63",
          "64",
          "65",
          "66",
          "67",
          "68",
          "70",
          "71",
          "73",
          "74",
          "75",
          "76",
          "77",
          "78",
          "87",
          "90",
          "91",
          "92",
          "93",
          "94",
          "95",
          "96",
          "49",
          "50",
          "79",
          "80",
          "85",
          "51"
         ],
         "textfont": {
          "color": "rgb(51,160,44)",
          "family": "sans serif",
          "size": 18
         },
         "textposition": "bottom center",
         "type": "scatter",
         "visible": false,
         "x": [
          0,
          1,
          2,
          3,
          4,
          5,
          6,
          7,
          8,
          9,
          10,
          11,
          12,
          13,
          14,
          15,
          16,
          17,
          18,
          19,
          20,
          21,
          22,
          23,
          24,
          25,
          26,
          27,
          28,
          29,
          30,
          31,
          32,
          33,
          34,
          35,
          36,
          37,
          38,
          39,
          40,
          41,
          42,
          43,
          44,
          45,
          46,
          47,
          48,
          49,
          50,
          51,
          52,
          53,
          54,
          55,
          56,
          57,
          58,
          59,
          60,
          61,
          62,
          63,
          64,
          65,
          66,
          67,
          68,
          69,
          70,
          71,
          72,
          73,
          74,
          75,
          76,
          77,
          78,
          79,
          80,
          81,
          82,
          83,
          84,
          85,
          86,
          87,
          88,
          89,
          90,
          91,
          92,
          93
         ],
         "y": [
          0.6913794432121946,
          0.6883458265801329,
          0.6870967111131812,
          0.6861907611138238,
          0.6857931711598056,
          0.6856625988538294,
          0.6856625988538294,
          0.6856625988538294,
          0.6856625988538294,
          0.6856625988538294,
          0.6856625988538294,
          0.6856625988538294,
          0.6856625988538294,
          0.6856625988538294,
          0.6856625988538294,
          0.6856625988538294,
          0.6856625988538294,
          0.6856625988538294,
          0.6856625988538294,
          0.6856625988538294,
          0.6856625988538294,
          0.6856625988538294,
          0.6856625988538294,
          0.6856625988538294,
          0.6856625988538294,
          0.6856625988538294,
          0.6856625988538294,
          0.6856625988538294,
          0.6856625988538294,
          0.6856625988538294,
          0.6856625988538294,
          0.6856625988538294,
          0.6856625988538294,
          0.6856625988538294,
          0.6856625988538294,
          0.6856625988538294,
          0.6856625988538294,
          0.6856625988538294,
          0.6856625988538294,
          0.6856625988538294,
          0.6856625988538294,
          0.6856625988538294,
          0.6856625988538294,
          0.6856625988538294,
          0.6856625988538294,
          0.6856625988538294,
          0.6856625988538294,
          0.6856625988538294,
          0.6856625988538294,
          0.6856625988538294,
          0.6856625988538294,
          0.6856625988538294,
          0.6856625988538294,
          0.6856625988538294,
          0.6856625988538294,
          0.6856625988538294,
          0.6856625988538294,
          0.6856625988538294,
          0.6856625988538294,
          0.6856625988538294,
          0.6856625988538294,
          0.6856625988538294,
          0.6856625988538294,
          0.6856625988538294,
          0.6856625988538294,
          0.6856625988538294,
          0.6856625988538294,
          0.6856625988538294,
          0.6856625988538294,
          0.6856625988538294,
          0.6856625988538294,
          0.6856625988538294,
          0.6856625988538294,
          0.6856625988538294,
          0.6856625988538294,
          0.6856625988538294,
          0.6856625988538294,
          0.6856625988538294,
          0.6856625988538294,
          0.6856625988538294,
          0.6856625988538294,
          0.6856625988538294,
          0.6856625988538294,
          0.6856625988538294,
          0.6856625988538294,
          0.6856625988538294,
          0.6856625988538294,
          0.6856625988538294,
          0.6856625988538294,
          0.6856625988538294,
          0.6856625988538294,
          0.6856625988538294,
          0.6856625988538294,
          0.6856625988538294
         ]
        },
        {
         "mode": "text",
         "name": "",
         "text": [
          "",
          "duration_sum",
          "pace_median",
          "velocity_angular_q5",
          "pace_mean",
          "angle_min",
          "flip_x_count",
          "flip_y_count",
          "velocity_max",
          "velocity_q5",
          "velocity_mean_weighted",
          "velocity_mean",
          "velocity_smooth_max",
          "velocity_smooth_q95",
          "velocity_smooth_q5",
          "velocity_smooth_mean",
          "velocity_smooth_median",
          "velocity_smooth_std",
          "distance_sum",
          "velocity_median",
          "velocity_std",
          "distance_ratio",
          "velocity_x_max",
          "corner_count",
          "velocity_x_q95",
          "velocity_x_mean_weighted",
          "velocity_x_mean",
          "velocity_x_std",
          "velocity_y_max",
          "velocity_y_q95",
          "velocity_y_mean",
          "velocity_y_median",
          "velocity_y_std",
          "distance_max",
          "distance_q95",
          "distance_q5",
          "distance_mean",
          "distance_median",
          "distance_std",
          "pace_max",
          "pace_q95",
          "pace_q5",
          "pace_mean_weighted",
          "pace_std",
          "acceleration_max",
          "acceleration_min",
          "acceleration_q95",
          "acceleration_mean_weighted",
          "acceleration_mean",
          "acceleration_median",
          "acceleration_std",
          "acceleration_x_max",
          "acceleration_x_q95",
          "acceleration_x_mean_weighted",
          "acceleration_x_mean",
          "acceleration_x_std",
          "acceleration_y_mean_weighted",
          "acceleration_y_mean",
          "acceleration_y_std",
          "acceleration_positive_max",
          "acceleration_positive_min",
          "acceleration_positive_q95",
          "acceleration_positive_q5",
          "acceleration_positive_mean_weighted",
          "acceleration_positive_mean",
          "acceleration_positive_median",
          "acceleration_positive_std",
          "acceleration_negative_max",
          "acceleration_negative_min",
          "acceleration_negative_q95",
          "acceleration_negative_q5",
          "acceleration_negative_mean_weighted",
          "acceleration_negative_median",
          "acceleration_negative_std",
          "angle_q95",
          "angle_q5",
          "angle_mean",
          "angle_median",
          "angle_std",
          "velocity_angular_max",
          "curvature_q95",
          "curvature_std",
          "deviation_max",
          "deviation_q95",
          "deviation_q5",
          "deviation_mean",
          "deviation_median",
          "deviation_std",
          "acceleration_y_max",
          "acceleration_y_min",
          "velocity_angular_min",
          "velocity_angular_q95",
          "curvature_max",
          "acceleration_y_q95"
         ],
         "textfont": {
          "color": "rgb(51,160,44)",
          "family": "sans serif",
          "size": 18
         },
         "textposition": "bottom center",
         "type": "scatter",
         "visible": false,
         "x": [
          0,
          1,
          2,
          3,
          4,
          5,
          6,
          7,
          8,
          9,
          10,
          11,
          12,
          13,
          14,
          15,
          16,
          17,
          18,
          19,
          20,
          21,
          22,
          23,
          24,
          25,
          26,
          27,
          28,
          29,
          30,
          31,
          32,
          33,
          34,
          35,
          36,
          37,
          38,
          39,
          40,
          41,
          42,
          43,
          44,
          45,
          46,
          47,
          48,
          49,
          50,
          51,
          52,
          53,
          54,
          55,
          56,
          57,
          58,
          59,
          60,
          61,
          62,
          63,
          64,
          65,
          66,
          67,
          68,
          69,
          70,
          71,
          72,
          73,
          74,
          75,
          76,
          77,
          78,
          79,
          80,
          81,
          82,
          83,
          84,
          85,
          86,
          87,
          88,
          89,
          90,
          91,
          92,
          93
         ],
         "y": [
          0.6913794432121946,
          0.6883458265801329,
          0.6870967111131812,
          0.6861907611138238,
          0.6857931711598056,
          0.6856625988538294,
          0.6856625988538294,
          0.6856625988538294,
          0.6856625988538294,
          0.6856625988538294,
          0.6856625988538294,
          0.6856625988538294,
          0.6856625988538294,
          0.6856625988538294,
          0.6856625988538294,
          0.6856625988538294,
          0.6856625988538294,
          0.6856625988538294,
          0.6856625988538294,
          0.6856625988538294,
          0.6856625988538294,
          0.6856625988538294,
          0.6856625988538294,
          0.6856625988538294,
          0.6856625988538294,
          0.6856625988538294,
          0.6856625988538294,
          0.6856625988538294,
          0.6856625988538294,
          0.6856625988538294,
          0.6856625988538294,
          0.6856625988538294,
          0.6856625988538294,
          0.6856625988538294,
          0.6856625988538294,
          0.6856625988538294,
          0.6856625988538294,
          0.6856625988538294,
          0.6856625988538294,
          0.6856625988538294,
          0.6856625988538294,
          0.6856625988538294,
          0.6856625988538294,
          0.6856625988538294,
          0.6856625988538294,
          0.6856625988538294,
          0.6856625988538294,
          0.6856625988538294,
          0.6856625988538294,
          0.6856625988538294,
          0.6856625988538294,
          0.6856625988538294,
          0.6856625988538294,
          0.6856625988538294,
          0.6856625988538294,
          0.6856625988538294,
          0.6856625988538294,
          0.6856625988538294,
          0.6856625988538294,
          0.6856625988538294,
          0.6856625988538294,
          0.6856625988538294,
          0.6856625988538294,
          0.6856625988538294,
          0.6856625988538294,
          0.6856625988538294,
          0.6856625988538294,
          0.6856625988538294,
          0.6856625988538294,
          0.6856625988538294,
          0.6856625988538294,
          0.6856625988538294,
          0.6856625988538294,
          0.6856625988538294,
          0.6856625988538294,
          0.6856625988538294,
          0.6856625988538294,
          0.6856625988538294,
          0.6856625988538294,
          0.6856625988538294,
          0.6856625988538294,
          0.6856625988538294,
          0.6856625988538294,
          0.6856625988538294,
          0.6856625988538294,
          0.6856625988538294,
          0.6856625988538294,
          0.6856625988538294,
          0.6856625988538294,
          0.6856625988538294,
          0.6856625988538294,
          0.6856625988538294,
          0.6856625988538294,
          0.6856625988538294
         ]
        }
       ],
       "layout": {
        "showlegend": false,
        "template": {
         "data": {
          "bar": [
           {
            "error_x": {
             "color": "#2a3f5f"
            },
            "error_y": {
             "color": "#2a3f5f"
            },
            "marker": {
             "line": {
              "color": "#E5ECF6",
              "width": 0.5
             },
             "pattern": {
              "fillmode": "overlay",
              "size": 10,
              "solidity": 0.2
             }
            },
            "type": "bar"
           }
          ],
          "barpolar": [
           {
            "marker": {
             "line": {
              "color": "#E5ECF6",
              "width": 0.5
             },
             "pattern": {
              "fillmode": "overlay",
              "size": 10,
              "solidity": 0.2
             }
            },
            "type": "barpolar"
           }
          ],
          "carpet": [
           {
            "aaxis": {
             "endlinecolor": "#2a3f5f",
             "gridcolor": "white",
             "linecolor": "white",
             "minorgridcolor": "white",
             "startlinecolor": "#2a3f5f"
            },
            "baxis": {
             "endlinecolor": "#2a3f5f",
             "gridcolor": "white",
             "linecolor": "white",
             "minorgridcolor": "white",
             "startlinecolor": "#2a3f5f"
            },
            "type": "carpet"
           }
          ],
          "choropleth": [
           {
            "colorbar": {
             "outlinewidth": 0,
             "ticks": ""
            },
            "type": "choropleth"
           }
          ],
          "contour": [
           {
            "colorbar": {
             "outlinewidth": 0,
             "ticks": ""
            },
            "colorscale": [
             [
              0,
              "#0d0887"
             ],
             [
              0.1111111111111111,
              "#46039f"
             ],
             [
              0.2222222222222222,
              "#7201a8"
             ],
             [
              0.3333333333333333,
              "#9c179e"
             ],
             [
              0.4444444444444444,
              "#bd3786"
             ],
             [
              0.5555555555555556,
              "#d8576b"
             ],
             [
              0.6666666666666666,
              "#ed7953"
             ],
             [
              0.7777777777777778,
              "#fb9f3a"
             ],
             [
              0.8888888888888888,
              "#fdca26"
             ],
             [
              1,
              "#f0f921"
             ]
            ],
            "type": "contour"
           }
          ],
          "contourcarpet": [
           {
            "colorbar": {
             "outlinewidth": 0,
             "ticks": ""
            },
            "type": "contourcarpet"
           }
          ],
          "heatmap": [
           {
            "colorbar": {
             "outlinewidth": 0,
             "ticks": ""
            },
            "colorscale": [
             [
              0,
              "#0d0887"
             ],
             [
              0.1111111111111111,
              "#46039f"
             ],
             [
              0.2222222222222222,
              "#7201a8"
             ],
             [
              0.3333333333333333,
              "#9c179e"
             ],
             [
              0.4444444444444444,
              "#bd3786"
             ],
             [
              0.5555555555555556,
              "#d8576b"
             ],
             [
              0.6666666666666666,
              "#ed7953"
             ],
             [
              0.7777777777777778,
              "#fb9f3a"
             ],
             [
              0.8888888888888888,
              "#fdca26"
             ],
             [
              1,
              "#f0f921"
             ]
            ],
            "type": "heatmap"
           }
          ],
          "heatmapgl": [
           {
            "colorbar": {
             "outlinewidth": 0,
             "ticks": ""
            },
            "colorscale": [
             [
              0,
              "#0d0887"
             ],
             [
              0.1111111111111111,
              "#46039f"
             ],
             [
              0.2222222222222222,
              "#7201a8"
             ],
             [
              0.3333333333333333,
              "#9c179e"
             ],
             [
              0.4444444444444444,
              "#bd3786"
             ],
             [
              0.5555555555555556,
              "#d8576b"
             ],
             [
              0.6666666666666666,
              "#ed7953"
             ],
             [
              0.7777777777777778,
              "#fb9f3a"
             ],
             [
              0.8888888888888888,
              "#fdca26"
             ],
             [
              1,
              "#f0f921"
             ]
            ],
            "type": "heatmapgl"
           }
          ],
          "histogram": [
           {
            "marker": {
             "pattern": {
              "fillmode": "overlay",
              "size": 10,
              "solidity": 0.2
             }
            },
            "type": "histogram"
           }
          ],
          "histogram2d": [
           {
            "colorbar": {
             "outlinewidth": 0,
             "ticks": ""
            },
            "colorscale": [
             [
              0,
              "#0d0887"
             ],
             [
              0.1111111111111111,
              "#46039f"
             ],
             [
              0.2222222222222222,
              "#7201a8"
             ],
             [
              0.3333333333333333,
              "#9c179e"
             ],
             [
              0.4444444444444444,
              "#bd3786"
             ],
             [
              0.5555555555555556,
              "#d8576b"
             ],
             [
              0.6666666666666666,
              "#ed7953"
             ],
             [
              0.7777777777777778,
              "#fb9f3a"
             ],
             [
              0.8888888888888888,
              "#fdca26"
             ],
             [
              1,
              "#f0f921"
             ]
            ],
            "type": "histogram2d"
           }
          ],
          "histogram2dcontour": [
           {
            "colorbar": {
             "outlinewidth": 0,
             "ticks": ""
            },
            "colorscale": [
             [
              0,
              "#0d0887"
             ],
             [
              0.1111111111111111,
              "#46039f"
             ],
             [
              0.2222222222222222,
              "#7201a8"
             ],
             [
              0.3333333333333333,
              "#9c179e"
             ],
             [
              0.4444444444444444,
              "#bd3786"
             ],
             [
              0.5555555555555556,
              "#d8576b"
             ],
             [
              0.6666666666666666,
              "#ed7953"
             ],
             [
              0.7777777777777778,
              "#fb9f3a"
             ],
             [
              0.8888888888888888,
              "#fdca26"
             ],
             [
              1,
              "#f0f921"
             ]
            ],
            "type": "histogram2dcontour"
           }
          ],
          "mesh3d": [
           {
            "colorbar": {
             "outlinewidth": 0,
             "ticks": ""
            },
            "type": "mesh3d"
           }
          ],
          "parcoords": [
           {
            "line": {
             "colorbar": {
              "outlinewidth": 0,
              "ticks": ""
             }
            },
            "type": "parcoords"
           }
          ],
          "pie": [
           {
            "automargin": true,
            "type": "pie"
           }
          ],
          "scatter": [
           {
            "fillpattern": {
             "fillmode": "overlay",
             "size": 10,
             "solidity": 0.2
            },
            "type": "scatter"
           }
          ],
          "scatter3d": [
           {
            "line": {
             "colorbar": {
              "outlinewidth": 0,
              "ticks": ""
             }
            },
            "marker": {
             "colorbar": {
              "outlinewidth": 0,
              "ticks": ""
             }
            },
            "type": "scatter3d"
           }
          ],
          "scattercarpet": [
           {
            "marker": {
             "colorbar": {
              "outlinewidth": 0,
              "ticks": ""
             }
            },
            "type": "scattercarpet"
           }
          ],
          "scattergeo": [
           {
            "marker": {
             "colorbar": {
              "outlinewidth": 0,
              "ticks": ""
             }
            },
            "type": "scattergeo"
           }
          ],
          "scattergl": [
           {
            "marker": {
             "colorbar": {
              "outlinewidth": 0,
              "ticks": ""
             }
            },
            "type": "scattergl"
           }
          ],
          "scattermapbox": [
           {
            "marker": {
             "colorbar": {
              "outlinewidth": 0,
              "ticks": ""
             }
            },
            "type": "scattermapbox"
           }
          ],
          "scatterpolar": [
           {
            "marker": {
             "colorbar": {
              "outlinewidth": 0,
              "ticks": ""
             }
            },
            "type": "scatterpolar"
           }
          ],
          "scatterpolargl": [
           {
            "marker": {
             "colorbar": {
              "outlinewidth": 0,
              "ticks": ""
             }
            },
            "type": "scatterpolargl"
           }
          ],
          "scatterternary": [
           {
            "marker": {
             "colorbar": {
              "outlinewidth": 0,
              "ticks": ""
             }
            },
            "type": "scatterternary"
           }
          ],
          "surface": [
           {
            "colorbar": {
             "outlinewidth": 0,
             "ticks": ""
            },
            "colorscale": [
             [
              0,
              "#0d0887"
             ],
             [
              0.1111111111111111,
              "#46039f"
             ],
             [
              0.2222222222222222,
              "#7201a8"
             ],
             [
              0.3333333333333333,
              "#9c179e"
             ],
             [
              0.4444444444444444,
              "#bd3786"
             ],
             [
              0.5555555555555556,
              "#d8576b"
             ],
             [
              0.6666666666666666,
              "#ed7953"
             ],
             [
              0.7777777777777778,
              "#fb9f3a"
             ],
             [
              0.8888888888888888,
              "#fdca26"
             ],
             [
              1,
              "#f0f921"
             ]
            ],
            "type": "surface"
           }
          ],
          "table": [
           {
            "cells": {
             "fill": {
              "color": "#EBF0F8"
             },
             "line": {
              "color": "white"
             }
            },
            "header": {
             "fill": {
              "color": "#C8D4E3"
             },
             "line": {
              "color": "white"
             }
            },
            "type": "table"
           }
          ]
         },
         "layout": {
          "annotationdefaults": {
           "arrowcolor": "#2a3f5f",
           "arrowhead": 0,
           "arrowwidth": 1
          },
          "autotypenumbers": "strict",
          "coloraxis": {
           "colorbar": {
            "outlinewidth": 0,
            "ticks": ""
           }
          },
          "colorscale": {
           "diverging": [
            [
             0,
             "#8e0152"
            ],
            [
             0.1,
             "#c51b7d"
            ],
            [
             0.2,
             "#de77ae"
            ],
            [
             0.3,
             "#f1b6da"
            ],
            [
             0.4,
             "#fde0ef"
            ],
            [
             0.5,
             "#f7f7f7"
            ],
            [
             0.6,
             "#e6f5d0"
            ],
            [
             0.7,
             "#b8e186"
            ],
            [
             0.8,
             "#7fbc41"
            ],
            [
             0.9,
             "#4d9221"
            ],
            [
             1,
             "#276419"
            ]
           ],
           "sequential": [
            [
             0,
             "#0d0887"
            ],
            [
             0.1111111111111111,
             "#46039f"
            ],
            [
             0.2222222222222222,
             "#7201a8"
            ],
            [
             0.3333333333333333,
             "#9c179e"
            ],
            [
             0.4444444444444444,
             "#bd3786"
            ],
            [
             0.5555555555555556,
             "#d8576b"
            ],
            [
             0.6666666666666666,
             "#ed7953"
            ],
            [
             0.7777777777777778,
             "#fb9f3a"
            ],
            [
             0.8888888888888888,
             "#fdca26"
            ],
            [
             1,
             "#f0f921"
            ]
           ],
           "sequentialminus": [
            [
             0,
             "#0d0887"
            ],
            [
             0.1111111111111111,
             "#46039f"
            ],
            [
             0.2222222222222222,
             "#7201a8"
            ],
            [
             0.3333333333333333,
             "#9c179e"
            ],
            [
             0.4444444444444444,
             "#bd3786"
            ],
            [
             0.5555555555555556,
             "#d8576b"
            ],
            [
             0.6666666666666666,
             "#ed7953"
            ],
            [
             0.7777777777777778,
             "#fb9f3a"
            ],
            [
             0.8888888888888888,
             "#fdca26"
            ],
            [
             1,
             "#f0f921"
            ]
           ]
          },
          "colorway": [
           "#636efa",
           "#EF553B",
           "#00cc96",
           "#ab63fa",
           "#FFA15A",
           "#19d3f3",
           "#FF6692",
           "#B6E880",
           "#FF97FF",
           "#FECB52"
          ],
          "font": {
           "color": "#2a3f5f"
          },
          "geo": {
           "bgcolor": "white",
           "lakecolor": "white",
           "landcolor": "#E5ECF6",
           "showlakes": true,
           "showland": true,
           "subunitcolor": "white"
          },
          "hoverlabel": {
           "align": "left"
          },
          "hovermode": "closest",
          "mapbox": {
           "style": "light"
          },
          "paper_bgcolor": "white",
          "plot_bgcolor": "#E5ECF6",
          "polar": {
           "angularaxis": {
            "gridcolor": "white",
            "linecolor": "white",
            "ticks": ""
           },
           "bgcolor": "#E5ECF6",
           "radialaxis": {
            "gridcolor": "white",
            "linecolor": "white",
            "ticks": ""
           }
          },
          "scene": {
           "xaxis": {
            "backgroundcolor": "#E5ECF6",
            "gridcolor": "white",
            "gridwidth": 2,
            "linecolor": "white",
            "showbackground": true,
            "ticks": "",
            "zerolinecolor": "white"
           },
           "yaxis": {
            "backgroundcolor": "#E5ECF6",
            "gridcolor": "white",
            "gridwidth": 2,
            "linecolor": "white",
            "showbackground": true,
            "ticks": "",
            "zerolinecolor": "white"
           },
           "zaxis": {
            "backgroundcolor": "#E5ECF6",
            "gridcolor": "white",
            "gridwidth": 2,
            "linecolor": "white",
            "showbackground": true,
            "ticks": "",
            "zerolinecolor": "white"
           }
          },
          "shapedefaults": {
           "line": {
            "color": "#2a3f5f"
           }
          },
          "ternary": {
           "aaxis": {
            "gridcolor": "white",
            "linecolor": "white",
            "ticks": ""
           },
           "baxis": {
            "gridcolor": "white",
            "linecolor": "white",
            "ticks": ""
           },
           "bgcolor": "#E5ECF6",
           "caxis": {
            "gridcolor": "white",
            "linecolor": "white",
            "ticks": ""
           }
          },
          "title": {
           "x": 0.05
          },
          "xaxis": {
           "automargin": true,
           "gridcolor": "white",
           "linecolor": "white",
           "ticks": "",
           "title": {
            "standoff": 15
           },
           "zerolinecolor": "white",
           "zerolinewidth": 2
          },
          "yaxis": {
           "automargin": true,
           "gridcolor": "white",
           "linecolor": "white",
           "ticks": "",
           "title": {
            "standoff": 15
           },
           "zerolinecolor": "white",
           "zerolinewidth": 2
          }
         }
        },
        "title": {
         "text": "Loss by eliminated features"
        },
        "updatemenus": [
         {
          "active": 0,
          "buttons": [
           {
            "args": [
             {
              "visible": [
               true,
               true,
               false,
               false
              ]
             }
            ],
            "label": "Hide features",
            "method": "update"
           },
           {
            "args": [
             {
              "visible": [
               true,
               true,
               true,
               false
              ]
             }
            ],
            "label": "Show indices",
            "method": "update"
           },
           {
            "args": [
             {
              "visible": [
               true,
               true,
               false,
               true
              ]
             }
            ],
            "label": "Show names",
            "method": "update"
           }
          ],
          "pad": {
           "r": 10,
           "t": 10
          },
          "showactive": true,
          "x": -0.25,
          "xanchor": "left",
          "y": 1.03,
          "yanchor": "top"
         }
        ],
        "xaxis": {
         "gridcolor": "rgb(255,255,255)",
         "showgrid": true,
         "showline": false,
         "showticklabels": true,
         "tickcolor": "rgb(127,127,127)",
         "ticks": "outside",
         "title": {
          "text": "number of removed features"
         },
         "zeroline": false
        },
        "yaxis": {
         "gridcolor": "rgb(255,255,255)",
         "showgrid": true,
         "showline": false,
         "showticklabels": true,
         "tickcolor": "rgb(127,127,127)",
         "tickfont": {
          "color": "rgb(51,160,44)"
         },
         "ticks": "outside",
         "title": {
          "font": {
           "color": "rgb(51,160,44)"
          },
          "text": "loss value"
         },
         "zeroline": false
        }
       }
      }
     },
     "metadata": {},
     "output_type": "display_data"
    }
   ],
   "source": [
    "model = CatBoostClassifier(logging_level='Silent', iterations=400, depth=4, learning_rate=0.05)\n",
    "\n",
    "predictors_train = processed_train.iloc[:, [i for i in range(108)]]\n",
    "target_train = processed_train.iloc[:, 108]\n",
    "\n",
    "predictors_valid = processed_test.iloc[:, [i for i in range(108)]]\n",
    "target_valid = processed_test.iloc[:, 108]\n",
    "\n",
    "features = model.select_features(\n",
    "    Pool(predictors_train, label=target_train),\n",
    "    features_for_select='0-107', \n",
    "    num_features_to_select=15, \n",
    "    train_final_model=False, \n",
    "    plot=True,\n",
    "    eval_set=Pool(predictors_valid, label=target_valid)\n",
    ")"
   ]
  },
  {
   "cell_type": "code",
   "execution_count": 6,
   "metadata": {},
   "outputs": [
    {
     "data": {
      "text/plain": [
       "array(['velocity_q95', 'velocity_x_median', 'velocity_y_mean_weighted',\n",
       "       'acceleration_q5', 'acceleration_x_min', 'acceleration_x_q5',\n",
       "       'acceleration_y_q5', 'acceleration_negative_mean',\n",
       "       'velocity_angular_mean_weighted', 'velocity_angular_mean',\n",
       "       'velocity_angular_std', 'curvature_min', 'curvature_q5',\n",
       "       'curvature_mean', 'velocity_smooth_mean_weighted'], dtype=object)"
      ]
     },
     "execution_count": 6,
     "metadata": {},
     "output_type": "execute_result"
    }
   ],
   "source": [
    "predictors_train.columns[features['selected_features']].values"
   ]
  }
 ],
 "metadata": {
  "kernelspec": {
   "display_name": ".venv",
   "language": "python",
   "name": "python3"
  },
  "language_info": {
   "codemirror_mode": {
    "name": "ipython",
    "version": 3
   },
   "file_extension": ".py",
   "mimetype": "text/x-python",
   "name": "python",
   "nbconvert_exporter": "python",
   "pygments_lexer": "ipython3",
   "version": "3.11.3"
  }
 },
 "nbformat": 4,
 "nbformat_minor": 2
}
